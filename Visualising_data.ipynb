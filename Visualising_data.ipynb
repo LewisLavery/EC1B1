{
 "cells": [
  {
   "cell_type": "markdown",
   "id": "eebe02cb",
   "metadata": {},
   "source": [
    "# Lewis' visualisation section\n",
    "* should create templates and be ready to input downloaded and cleaned data"
   ]
  },
  {
   "cell_type": "code",
   "execution_count": 49,
   "id": "a1bdf829",
   "metadata": {},
   "outputs": [],
   "source": [
    "import matplotlib.pyplot as plt\n",
    "import matplotlib.ticker as mtick\n",
    "import pandas as pd\n",
    "import seaborn as sns\n",
    "\n",
    "sns.set_style('darkgrid')"
   ]
  },
  {
   "cell_type": "code",
   "execution_count": 5,
   "id": "4334680e",
   "metadata": {},
   "outputs": [],
   "source": [
    "def scatter_plot_template(x, y, xlabel='',  ylabel='', title=''):\n",
    "    \n",
    "    plt.scatter(x, y)\n",
    "    plt.xlabel(xlabel)\n",
    "    plt.ylabel(ylabel)\n",
    "    plt.title(title)\n",
    "    plt.show()"
   ]
  },
  {
   "cell_type": "code",
   "execution_count": 50,
   "id": "1321b6b2",
   "metadata": {},
   "outputs": [],
   "source": [
    "def histogram_plot_template(xlabel='', ylabel='', title=''):\n",
    "    \n",
    "    \n",
    "    sns.histplot(data, bins=5)\n",
    "    plt.xlabel(xlabel)\n",
    "    plt.ylabel(ylabel)\n",
    "    plt.title(title)\n",
    "    plt.show()"
   ]
  },
  {
   "cell_type": "code",
   "execution_count": 68,
   "id": "f52ce46c",
   "metadata": {},
   "outputs": [],
   "source": [
    "def subplot1_template(start_time='', end_time='', ylimits=None, ylabel='', super_title='', title='', x_annotation='', y_annotation='', data=None):\n",
    "    \n",
    "    fig, ax = plt.subplots()\n",
    "    data['start_time':'end_time'].plot(ax=ax)\n",
    "    ax.set_ylim(ylimits)\n",
    "    ax.set_ylabel(ylabel)\n",
    "    \n",
    "    plt.suptitle('super_title', y=1.1, fontsize=15, color='black', fontweight='bold')\n",
    "    plt.title('title', fontsize=12, color='darkgrey', fontweight='bold')\n",
    "    plt.annotate('Bretton Woods Collapse/n(August 1971)', fontsize =10, xy=(x_annotation, y_annotation), xytext=(x_annotation, y_annotation + 20), arrowprops=dict(facecolor='black', arrowstyle='->', shrink=0.001), color='red')\n",
    "    ax.grid(True, linestyle='--', linewidth=0.5, color='gray')\n",
    "    ax.set_facecolor('lightgray')\n",
    "    plt.show()"
   ]
  },
  {
   "cell_type": "code",
   "execution_count": null,
   "id": "93e0a7dc",
   "metadata": {},
   "outputs": [],
   "source": []
  }
 ],
 "metadata": {
  "kernelspec": {
   "display_name": "Python 3 (ipykernel)",
   "language": "python",
   "name": "python3"
  },
  "language_info": {
   "codemirror_mode": {
    "name": "ipython",
    "version": 3
   },
   "file_extension": ".py",
   "mimetype": "text/x-python",
   "name": "python",
   "nbconvert_exporter": "python",
   "pygments_lexer": "ipython3",
   "version": "3.11.5"
  }
 },
 "nbformat": 4,
 "nbformat_minor": 5
}
