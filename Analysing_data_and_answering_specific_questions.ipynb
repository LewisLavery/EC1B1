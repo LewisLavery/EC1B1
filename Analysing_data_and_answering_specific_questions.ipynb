{
 "cells": [
  {
   "cell_type": "markdown",
   "id": "d25751b2",
   "metadata": {},
   "source": [
    "# Harry and Andy's section re data analysis and answering the given questions"
   ]
  },
  {
   "cell_type": "markdown",
   "id": "d7ac2f90",
   "metadata": {},
   "source": []
  },
  {
   "cell_type": "markdown",
   "id": "3095749d",
   "metadata": {},
   "source": []
  }
 ],
 "metadata": {
  "kernelspec": {
   "display_name": "Python 3 (ipykernel)",
   "language": "python",
   "name": "python3"
  },
  "language_info": {
   "codemirror_mode": {
    "name": "ipython",
    "version": 3
   },
   "file_extension": ".py",
   "mimetype": "text/x-python",
   "name": "python",
   "nbconvert_exporter": "python",
   "pygments_lexer": "ipython3",
   "version": "3.11.5"
  }
 },
 "nbformat": 4,
 "nbformat_minor": 5
}
