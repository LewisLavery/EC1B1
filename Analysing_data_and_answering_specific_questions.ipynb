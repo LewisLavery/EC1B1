{
 "cells": [
  {
   "cell_type": "markdown",
   "id": "6135a594",
   "metadata": {},
   "source": [
    "# Harry and Andy's section re data analysis and answering the given questions"
   ]
  },
  {
   "cell_type": "markdown",
   "id": "a4dc15fd",
   "metadata": {},
   "source": [
    "# Section 5.1 answers:\n",
    "* Answer 1\n",
    "* Answer 2"
   ]
  },
  {
   "cell_type": "markdown",
   "id": "2cd4be41",
   "metadata": {},
   "source": []
  }
 ],
 "metadata": {
  "kernelspec": {
   "display_name": "Python 3 (ipykernel)",
   "language": "python",
   "name": "python3"
  },
  "language_info": {
   "codemirror_mode": {
    "name": "ipython",
    "version": 3
   },
   "file_extension": ".py",
   "mimetype": "text/x-python",
   "name": "python",
   "nbconvert_exporter": "python",
   "pygments_lexer": "ipython3",
   "version": "3.11.5"
  }
 },
 "nbformat": 4,
 "nbformat_minor": 5
}
